{
 "cells": [
  {
   "cell_type": "code",
   "execution_count": 10,
   "metadata": {},
   "outputs": [
    {
     "name": "stdout",
     "output_type": "stream",
     "text": [
      "dict_keys(['data', 'target', 'frame', 'DESCR', 'feature_names', 'data_filename', 'target_filename', 'data_module'])\n",
      "Mean squared error is: 2004.2629212944935\n",
      "Weight  [  -1.16678648 -237.18123633  518.31283524  309.04204042 -763.10835067\n",
      "  458.88378916   80.61107395  174.31796962  721.48087773   79.1952801 ]\n",
      "Intercept 153.05824267739402\n"
     ]
    }
   ],
   "source": [
    "from statistics import linear_regression\n",
    "import matplotlib.pyplot as plt\n",
    "import numpy as np\n",
    "from sklearn import datasets,linear_model\n",
    "from sklearn.metrics import mean_squared_error\n",
    "diabetes =datasets.load_diabetes()\n",
    "print(diabetes.keys())\n",
    "diabetes_X =diabetes.data\n",
    "# diabetes_X=diabetes.data[:,np.newaxis,2] only if 2 features are considered\n",
    "# print(diabetes_X)\n",
    "diabetes_X_train = diabetes_X[:-30]\n",
    "diabetes_X_test =diabetes_X[-20:]\n",
    "\n",
    "diabetes_Y_train = diabetes.target[:-30]\n",
    "diabetes_Y_test =diabetes.target[-20:]\n",
    "\n",
    "model =linear_model.LinearRegression()\n",
    "\n",
    "model.fit(diabetes_X_train,diabetes_Y_train)\n",
    "diabetes_Y_predict = model.predict(diabetes_X_test)\n",
    "print(\"Mean squared error is:\", mean_squared_error(diabetes_Y_test,diabetes_Y_predict))\n",
    "\n",
    "print(\"Weight \",model.coef_)\n",
    "print(\"Intercept\",model.intercept_)\n",
    "\n",
    "# plt.scatter(diabetes_X_test,diabetes_Y_test)\n",
    "# plt.plot(diabetes_X_test,diabetes_Y_predict)\n",
    "# plt.show\n",
    "# Weight  [941.43097333]\n",
    "# Intercept 153.39713623331644  for only two features \n",
    "\n",
    "\n",
    " \n",
    "\n",
    "\n",
    "\n",
    "\n"
   ]
  }
 ],
 "metadata": {
  "kernelspec": {
   "display_name": "Python 3.10.6 64-bit",
   "language": "python",
   "name": "python3"
  },
  "language_info": {
   "codemirror_mode": {
    "name": "ipython",
    "version": 3
   },
   "file_extension": ".py",
   "mimetype": "text/x-python",
   "name": "python",
   "nbconvert_exporter": "python",
   "pygments_lexer": "ipython3",
   "version": "3.10.6"
  },
  "orig_nbformat": 4,
  "vscode": {
   "interpreter": {
    "hash": "63963b3f4c440940f0b94a3100916033a226cb4f45979123153792d60aa56d6a"
   }
  }
 },
 "nbformat": 4,
 "nbformat_minor": 2
}
